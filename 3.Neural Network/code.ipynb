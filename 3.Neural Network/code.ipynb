{
 "cells": [
  {
   "cell_type": "markdown",
   "metadata": {},
   "source": [
    "# 给定预训练权重的Neural Network（神经网络）的数字识别\n",
    "\n",
    "* 选用kernel learning_dl\n",
    "~~~\n",
    "conda activate learning_dl \n",
    "\n",
    "# conda remove --name learning_dl --all\n",
    "~~~"
   ]
  },
  {
   "cell_type": "code",
   "execution_count": 16,
   "metadata": {},
   "outputs": [
    {
     "name": "stdout",
     "output_type": "stream",
     "text": [
      "finish import module!!!\n"
     ]
    }
   ],
   "source": [
    "import matplotlib.pyplot as plt\n",
    "import numpy as np\n",
    "import scipy.io as sio\n",
    "import matplotlib\n",
    "import scipy.optimize as opt\n",
    "from sklearn.metrics import classification_report#这个包是评价报告\n",
    "# import tensorflow as tf\n",
    "\n",
    "print(\"finish import module!!!\")"
   ]
  },
  {
   "cell_type": "code",
   "execution_count": 17,
   "metadata": {},
   "outputs": [],
   "source": [
    "def load_data(path, transpose=True):\n",
    "    data = sio.loadmat(path)\n",
    "    y = data.get('y')  # (5000,1)\n",
    "    y = y.reshape(y.shape[0])  # make it back to column vector\n",
    "\n",
    "    X = data.get('X')  # (5000,400)\n",
    "\n",
    "    if transpose:\n",
    "        # for this dataset, you need a transpose to get the orientation right\n",
    "        X = np.array([im.reshape((20, 20)).T for im in X])\n",
    "\n",
    "        # and I flat the image again to preserve the vector presentation\n",
    "        X = np.array([im.reshape(400) for im in X])\n",
    "\n",
    "    return X, y\n",
    "\n",
    "# add intercept=1 for x0\n",
    "X, y = load_data('ex3data1.mat',transpose=False)\n",
    "\n",
    "X = np.insert(X, 0, values=np.ones(X.shape[0]), axis=1)  # intercept"
   ]
  },
  {
   "cell_type": "markdown",
   "metadata": {},
   "source": [
    "# 神经网络模型\n",
    "<div align=\"center\">\n",
    "  <img src=\"./nn_model.png\" />\n",
    "</div>\n"
   ]
  },
  {
   "cell_type": "code",
   "execution_count": 18,
   "metadata": {},
   "outputs": [
    {
     "name": "stdout",
     "output_type": "stream",
     "text": [
      "theta1: (25, 401) theta2: (10, 26)\n"
     ]
    },
    {
     "data": {
      "text/plain": [
       "((5000, 401), (5000,))"
      ]
     },
     "execution_count": 18,
     "metadata": {},
     "output_type": "execute_result"
    }
   ],
   "source": [
    "# 读入权重数据\n",
    "def load_weight(path):\n",
    "    data = sio.loadmat(path)\n",
    "    return data['Theta1'], data['Theta2']\n",
    "\n",
    "theta1, theta2 = load_weight('ex3weights.mat')\n",
    "print(\"theta1:\",theta1.shape,\"theta2:\",theta2.shape)\n",
    "X.shape, y.shape"
   ]
  },
  {
   "cell_type": "code",
   "execution_count": 19,
   "metadata": {},
   "outputs": [
    {
     "name": "stdout",
     "output_type": "stream",
     "text": [
      "              precision    recall  f1-score   support\n",
      "\n",
      "           1       0.97      0.98      0.97       500\n",
      "           2       0.98      0.97      0.97       500\n",
      "           3       0.98      0.96      0.97       500\n",
      "           4       0.97      0.97      0.97       500\n",
      "           5       0.98      0.98      0.98       500\n",
      "           6       0.97      0.99      0.98       500\n",
      "           7       0.98      0.97      0.97       500\n",
      "           8       0.98      0.98      0.98       500\n",
      "           9       0.97      0.96      0.96       500\n",
      "          10       0.98      0.99      0.99       500\n",
      "\n",
      "    accuracy                           0.98      5000\n",
      "   macro avg       0.98      0.98      0.98      5000\n",
      "weighted avg       0.98      0.98      0.98      5000\n",
      "\n"
     ]
    }
   ],
   "source": [
    "def sigmoid(z):\n",
    "    return 1 / (1 + np.exp(-z))\n",
    "\n",
    "# feed forward prediction（前馈预测）\n",
    "\n",
    "# 第一层\n",
    "a1 = X\n",
    "z2 = a1 @ theta1.T # (5000, 401) @ (25,401).T = (5000, 25)\n",
    "z2 = np.insert(z2, 0, values=np.ones(z2.shape[0]), axis=1)#插入第一列\n",
    "a2 = sigmoid(z2) #第一层的输出\n",
    "\n",
    "# 第二层\n",
    "z3 = a2 @ theta2.T\n",
    "a3 = sigmoid(z3)\n",
    "\n",
    "# 预测结果\n",
    "y_pred = np.argmax(a3, axis=1) + 1  # numpy is 0 base index, +1 for matlab convention，返回沿轴axis最大值的索引，axis=1代表行\n",
    "print(classification_report(y, y_pred))#这个函数是评价报告，可以看到准确率，召回率，f1-score等"
   ]
  }
 ],
 "metadata": {
  "kernelspec": {
   "display_name": "learning_dl",
   "language": "python",
   "name": "python3"
  },
  "language_info": {
   "codemirror_mode": {
    "name": "ipython",
    "version": 3
   },
   "file_extension": ".py",
   "mimetype": "text/x-python",
   "name": "python",
   "nbconvert_exporter": "python",
   "pygments_lexer": "ipython3",
   "version": "3.6.13"
  }
 },
 "nbformat": 4,
 "nbformat_minor": 2
}
