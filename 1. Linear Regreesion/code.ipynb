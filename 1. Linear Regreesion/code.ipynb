{
 "cells": [
  {
   "cell_type": "markdown",
   "metadata": {},
   "source": [
    "# linear regreesion（线性回归）\n",
    "\n",
    "* 选用kernel learning_dl\n",
    "~~~\n",
    "conda create -n learning_dl python=3.6\n",
    "conda activate learning_dl \n",
    "pip install tensorflow\n",
    "pip install pandas\n",
    "pip install seaborn\n",
    "\n",
    "# conda remove --name learning_dl --all\n",
    "~~~"
   ]
  },
  {
   "cell_type": "code",
   "execution_count": 66,
   "metadata": {},
   "outputs": [
    {
     "name": "stdout",
     "output_type": "stream",
     "text": [
      "finish import module!!!\n"
     ]
    }
   ],
   "source": [
    "import pandas as pd\n",
    "import seaborn as sns\n",
    "sns.set(context=\"notebook\", style=\"whitegrid\", palette=\"dark\")\n",
    "import matplotlib.pyplot as plt\n",
    "import tensorflow as tf\n",
    "import numpy as np\n",
    "\n",
    "print(\"finish import module!!!\")"
   ]
  },
  {
   "cell_type": "code",
   "execution_count": 67,
   "metadata": {},
   "outputs": [
    {
     "name": "stdout",
     "output_type": "stream",
     "text": [
      "    population    profit\n",
      "0       6.1101  17.59200\n",
      "1       5.5277   9.13020\n",
      "2       8.5186  13.66200\n",
      "3       7.0032  11.85400\n",
      "4       5.8598   6.82330\n",
      "..         ...       ...\n",
      "92      5.8707   7.20290\n",
      "93      5.3054   1.98690\n",
      "94      8.2934   0.14454\n",
      "95     13.3940   9.05510\n",
      "96      5.4369   0.61705\n",
      "\n",
      "[97 rows x 2 columns]\n"
     ]
    }
   ],
   "source": [
    "#读入数据并输出查看\n",
    "data  = pd.read_csv('ex1data1.txt', names=['population', 'profit'])#读取数据并赋予列名\n",
    "# data.head()#看数据前五行\n",
    "print(data )"
   ]
  },
  {
   "cell_type": "code",
   "execution_count": 68,
   "metadata": {},
   "outputs": [
    {
     "name": "stdout",
     "output_type": "stream",
     "text": [
      "<class 'pandas.core.frame.DataFrame'>\n",
      "RangeIndex: 97 entries, 0 to 96\n",
      "Data columns (total 2 columns):\n",
      " #   Column      Non-Null Count  Dtype  \n",
      "---  ------      --------------  -----  \n",
      " 0   population  97 non-null     float64\n",
      " 1   profit      97 non-null     float64\n",
      "dtypes: float64(2)\n",
      "memory usage: 1.6 KB\n"
     ]
    },
    {
     "name": "stderr",
     "output_type": "stream",
     "text": [
      "/home/gwp/miniconda3/envs/learning_dl/lib/python3.6/site-packages/seaborn/_decorators.py:43: FutureWarning: Pass the following variables as keyword args: x, y, data. From version 0.12, the only valid positional argument will be `data`, and passing other arguments without an explicit keyword will result in an error or misinterpretation.\n",
      "  FutureWarning\n",
      "/home/gwp/miniconda3/envs/learning_dl/lib/python3.6/site-packages/seaborn/regression.py:581: UserWarning: The `size` parameter has been renamed to `height`; please update your code.\n",
      "  warnings.warn(msg, UserWarning)\n"
     ]
    },
    {
     "data": {
      "image/png": "[encoded data removed]",
      "text/plain": [
       "<Figure size 432x432 with 1 Axes>"
      ]
     },
     "metadata": {
      "needs_background": "light"
     },
     "output_type": "display_data"
    }
   ],
   "source": [
    "data.info()#查看数据的信息\n",
    "# data.describe()\n",
    "\n",
    "# 把数据可视化处理\n",
    "# 在 Jupyter 中确保绘图可以显示\n",
    "%matplotlib inline \n",
    "\n",
    "sns.lmplot('population', 'profit', data, size=6, fit_reg=False)\n",
    "plt.show()"
   ]
  },
  {
   "cell_type": "code",
   "execution_count": 69,
   "metadata": {},
   "outputs": [
    {
     "name": "stdout",
     "output_type": "stream",
     "text": [
      "    Ones  population    profit\n",
      "0      1      6.1101  17.59200\n",
      "1      1      5.5277   9.13020\n",
      "2      1      8.5186  13.66200\n",
      "3      1      7.0032  11.85400\n",
      "4      1      5.8598   6.82330\n",
      "..   ...         ...       ...\n",
      "92     1      5.8707   7.20290\n",
      "93     1      5.3054   1.98690\n",
      "94     1      8.2934   0.14454\n",
      "95     1     13.3940   9.05510\n",
      "96     1      5.4369   0.61705\n",
      "\n",
      "[97 rows x 3 columns]\n"
     ]
    }
   ],
   "source": [
    "# 在训练集中添加一列，以便我们可以使用向量化的解决方案来计算代价和梯度。\n",
    "data.insert(0, 'Ones', 1)\n",
    "print(data)"
   ]
  },
  {
   "cell_type": "code",
   "execution_count": 70,
   "metadata": {},
   "outputs": [
    {
     "name": "stdout",
     "output_type": "stream",
     "text": [
      "    Ones  population\n",
      "0      1      6.1101\n",
      "1      1      5.5277\n",
      "2      1      8.5186\n",
      "3      1      7.0032\n",
      "4      1      5.8598\n",
      "..   ...         ...\n",
      "92     1      5.8707\n",
      "93     1      5.3054\n",
      "94     1      8.2934\n",
      "95     1     13.3940\n",
      "96     1      5.4369\n",
      "\n",
      "[97 rows x 2 columns]\n",
      "      profit\n",
      "0   17.59200\n",
      "1    9.13020\n",
      "2   13.66200\n",
      "3   11.85400\n",
      "4    6.82330\n",
      "..       ...\n",
      "92   7.20290\n",
      "93   1.98690\n",
      "94   0.14454\n",
      "95   9.05510\n",
      "96   0.61705\n",
      "\n",
      "[97 rows x 1 columns]\n"
     ]
    }
   ],
   "source": [
    "#初始化一些变量\n",
    "cols = data.shape[1]#获取列数\n",
    "X = data.iloc[:,0:cols-1]#获取population 列(以及它前面的1)\n",
    "y = data.iloc[:,cols-1:cols]#获取profit列\n",
    "print(X)\n",
    "print(y)"
   ]
  },
  {
   "cell_type": "code",
   "execution_count": 71,
   "metadata": {},
   "outputs": [
    {
     "name": "stdout",
     "output_type": "stream",
     "text": [
      "(97, 2) (2, 1) (97, 1)\n"
     ]
    }
   ],
   "source": [
    "#将X和y转换为numpy矩阵\n",
    "X = np.matrix(X)\n",
    "y = np.matrix(y)\n",
    "#初始化权重theta为0\n",
    "theta = np.matrix(np.array([0,0]))#theta为两个参数的矩阵【b，w】\n",
    "\n",
    "#确认一下矩阵的维度\n",
    "print(X.shape, (theta.T).shape, y.shape)"
   ]
  },
  {
   "cell_type": "markdown",
   "metadata": {},
   "source": [
    "接下来，创建一个以参数θ为特征函数的代价函数\n",
    "$$J\\left( \\theta  \\right)=\\frac{1}{2m}\\sum\\limits_{i=1}^{m}{{{\\left( {{h}_{\\theta }}\\left( {{x}^{(i)}} \\right)-{{y}^{(i)}} \\right)}^{2}}}$$\n",
    "其中：$${{h}_{\\theta }}\\left( x \\right)={{\\theta }^{T}}X={{\\theta }_{0}}{{x}_{0}}+{{\\theta }_{1}}{{x}_{1}}+{{\\theta }_{2}}{{x}_{2}}+...+{{\\theta }_{n}}{{x}_{n}}$$"
   ]
  },
  {
   "cell_type": "code",
   "execution_count": 72,
   "metadata": {},
   "outputs": [
    {
     "name": "stdout",
     "output_type": "stream",
     "text": [
      "the initial value of the cost function is: 32.072733877455676\n"
     ]
    }
   ],
   "source": [
    "def computeCost(X, y, theta): #其中theta就是要拟合的参数\n",
    "    hx = np.power(((X * theta.T) - y), 2)\n",
    "    return np.sum(hx) / (2 * len(X))\n",
    "\n",
    "print(\"the initial value of the cost function is:\", computeCost(X, y, theta))"
   ]
  },
  {
   "cell_type": "markdown",
   "metadata": {},
   "source": [
    "接下来进行 batch gradient decent（批量梯度下降）\n",
    "$${{\\theta }_{j}}:={{\\theta }_{j}}-\\alpha \\frac{\\partial }{\\partial {{\\theta }_{j}}}J\\left( \\theta  \\right)$$\n",
    "\n",
    "\n",
    "<div align=\"center\">\n",
    "  <img src=\"./微信截图_20241227171707.png\" width=\"60%\" />\n",
    "</div>\n",
    "\n"
   ]
  },
  {
   "cell_type": "code",
   "execution_count": 73,
   "metadata": {},
   "outputs": [
    {
     "name": "stdout",
     "output_type": "stream",
     "text": [
      "fincal theta: [[-3.24140214  1.1272942 ]] final cost: 4.515955503078912\n"
     ]
    }
   ],
   "source": [
    "#定义梯度下降函数\n",
    "def gradientDescent(X, y, theta, lr=0.01, iters=1000):#学习率默认0.01，迭代次数默认1000\n",
    "    temp = np.matrix(np.zeros(theta.shape))#初始化一个临时矩阵用于存放更新后的theta\n",
    "    parameters = int(theta.ravel().shape[1])#参数theta的个数：ravel()将theta转为一维数组，shape[1]取列数\n",
    "    cost = np.zeros(iters)#用于存放每次迭代后的cost\n",
    "    \n",
    "    # 遍历iters代\n",
    "    for i in range(iters):\n",
    "        error = (X * theta.T) - y #当前的误差=预测值-实际值\n",
    "        #对于【1，x】*[b\n",
    "        #             w] =wx+b\n",
    "        \n",
    "        # 遍历每个参数都分别进行更新\n",
    "        for j in range(parameters):\n",
    "            term = np.multiply(error, X[:,j])\n",
    "            temp[0,j] = theta[0,j] - (lr * (np.sum(term)/ len(X)))\n",
    "            \n",
    "        theta = temp#更新后的权重\n",
    "        cost[i] = computeCost(X, y, theta)#更新后的cost\n",
    "        \n",
    "    return theta, cost\n",
    "w,all_cost=gradientDescent(X, y, theta) #all_cost是每次迭代后的cost\n",
    "print(\"fincal theta:\", w, \"final cost:\", computeCost(X, y, w))"
   ]
  },
  {
   "cell_type": "code",
   "execution_count": 74,
   "metadata": {},
   "outputs": [
    {
     "data": {
      "image/png": "[encoded data removed]",
      "text/plain": [
       "<Figure size 864x576 with 1 Axes>"
      ]
     },
     "metadata": {
      "needs_background": "light"
     },
     "output_type": "display_data"
    }
   ],
   "source": [
    "#绘制拟合曲线\n",
    "x = np.linspace(data.population.min(), data.population.max(), 100)#在最大值和最小值之间生成100个点\n",
    "f = w[0, 0] + (w[0, 1] * x)#拟合的函数\n",
    "\n",
    "fig, ax = plt.subplots(figsize=(12,8))\n",
    "ax.plot(x, f, 'r', label='Prediction')\n",
    "ax.scatter(data.population, data.profit, label='Traning Data')\n",
    "ax.legend(loc=2)\n",
    "ax.set_xlabel('Population')\n",
    "ax.set_ylabel('Profit')\n",
    "ax.set_title('Predicted Profit vs. Population Size')\n",
    "plt.show()"
   ]
  },
  {
   "cell_type": "code",
   "execution_count": 75,
   "metadata": {},
   "outputs": [
    {
     "data": {
      "image/png": "[encoded data removed]",
      "text/plain": [
       "<Figure size 864x576 with 1 Axes>"
      ]
     },
     "metadata": {
      "needs_background": "light"
     },
     "output_type": "display_data"
    }
   ],
   "source": [
    "# 绘制代价函数的曲线\n",
    "fig, ax = plt.subplots(figsize=(12,8))\n",
    "ax.plot(np.arange(1000), all_cost, 'r')\n",
    "ax.set_xlabel('Iterations')\n",
    "ax.set_ylabel('Cost/Error')\n",
    "ax.set_title('Error vs. Training Epoch')\n",
    "plt.show()"
   ]
  },
  {
   "cell_type": "code",
   "execution_count": 76,
   "metadata": {},
   "outputs": [
    {
     "name": "stdout",
     "output_type": "stream",
     "text": [
      "    Size  Bedrooms   Price\n",
      "0   2104         3  399900\n",
      "1   1600         3  329900\n",
      "2   2400         3  369000\n",
      "3   1416         2  232000\n",
      "4   3000         4  539900\n",
      "5   1985         4  299900\n",
      "6   1534         3  314900\n",
      "7   1427         3  198999\n",
      "8   1380         3  212000\n",
      "9   1494         3  242500\n",
      "10  1940         4  239999\n",
      "11  2000         3  347000\n",
      "12  1890         3  329999\n",
      "13  4478         5  699900\n",
      "14  1268         3  259900\n",
      "15  2300         4  449900\n",
      "16  1320         2  299900\n",
      "17  1236         3  199900\n",
      "18  2609         4  499998\n",
      "19  3031         4  599000\n",
      "20  1767         3  252900\n",
      "21  1888         2  255000\n",
      "22  1604         3  242900\n",
      "23  1962         4  259900\n",
      "24  3890         3  573900\n",
      "25  1100         3  249900\n",
      "26  1458         3  464500\n",
      "27  2526         3  469000\n",
      "28  2200         3  475000\n",
      "29  2637         3  299900\n",
      "30  1839         2  349900\n",
      "31  1000         1  169900\n",
      "32  2040         4  314900\n",
      "33  3137         3  579900\n",
      "34  1811         4  285900\n",
      "35  1437         3  249900\n",
      "36  1239         3  229900\n",
      "37  2132         4  345000\n",
      "38  4215         4  549000\n",
      "39  2162         4  287000\n",
      "40  1664         2  368500\n",
      "41  2238         3  329900\n",
      "42  2567         4  314000\n",
      "43  1200         3  299000\n",
      "44   852         2  179900\n",
      "45  1852         4  299900\n",
      "46  1203         3  239500\n"
     ]
    }
   ],
   "source": [
    "#数据2在数据1的基础上增加了一个特征。2个变量（房子的大小，卧室的数量）和目标（房子的价格）\n",
    "path =  'ex1data2.txt'\n",
    "data2 = pd.read_csv(path, header=None, names=['Size', 'Bedrooms', 'Price'])\n",
    "# data2.head()\n",
    "print(data2)"
   ]
  },
  {
   "cell_type": "markdown",
   "metadata": {},
   "source": [
    "# 特征归一化\n",
    "由于房子的大小和卧室的数量的数量级相差太大，所以我们需要对数据进行特征缩放"
   ]
  },
  {
   "cell_type": "code",
   "execution_count": 77,
   "metadata": {},
   "outputs": [
    {
     "name": "stdout",
     "output_type": "stream",
     "text": [
      "        Size  Bedrooms     Price\n",
      "0   0.130010 -0.223675  0.475747\n",
      "1  -0.504190 -0.223675 -0.084074\n",
      "2   0.502476 -0.223675  0.228626\n",
      "3  -0.735723 -1.537767 -0.867025\n",
      "4   1.257476  1.090417  1.595389\n",
      "5  -0.019732  1.090417 -0.323998\n",
      "6  -0.587240 -0.223675 -0.204036\n",
      "7  -0.721881 -0.223675 -1.130948\n",
      "8  -0.781023 -0.223675 -1.026973\n",
      "9  -0.637573 -0.223675 -0.783051\n",
      "10 -0.076357  1.090417 -0.803053\n",
      "11 -0.000857 -0.223675  0.052682\n",
      "12 -0.139273 -0.223675 -0.083283\n",
      "13  3.117292  2.404508  2.874981\n",
      "14 -0.921956 -0.223675 -0.643896\n",
      "15  0.376643  1.090417  0.875619\n",
      "16 -0.856523 -1.537767 -0.323998\n",
      "17 -0.962223 -0.223675 -1.123743\n",
      "18  0.765468  1.090417  1.276275\n",
      "19  1.296484  1.090417  2.068039\n",
      "20 -0.294048 -0.223675 -0.699878\n",
      "21 -0.141790 -1.537767 -0.683083\n",
      "22 -0.499157 -0.223675 -0.779852\n",
      "23 -0.048673  1.090417 -0.643896\n",
      "24  2.377392 -0.223675  1.867303\n",
      "25 -1.133356 -0.223675 -0.723870\n",
      "26 -0.682873 -0.223675  0.992382\n",
      "27  0.661026 -0.223675  1.028370\n",
      "28  0.250810 -0.223675  1.076355\n",
      "29  0.800701 -0.223675 -0.323998\n",
      "30 -0.203448 -1.537767  0.075875\n",
      "31 -1.259189 -2.851859 -1.363666\n",
      "32  0.049477  1.090417 -0.204036\n",
      "33  1.429868 -0.223675  1.915287\n",
      "34 -0.238682  1.090417 -0.435962\n",
      "35 -0.709298 -0.223675 -0.723870\n",
      "36 -0.958448 -0.223675 -0.883819\n",
      "37  0.165243  1.090417  0.036687\n",
      "38  2.786350  1.090417  1.668166\n",
      "39  0.202993  1.090417 -0.427165\n",
      "40 -0.423657 -1.537767  0.224627\n",
      "41  0.298626 -0.223675 -0.084074\n",
      "42  0.712618  1.090417 -0.211234\n",
      "43 -1.007523 -0.223675 -0.331196\n",
      "44 -1.445423 -1.537767 -1.283692\n",
      "45 -0.187090  1.090417 -0.323998\n",
      "46 -1.003748 -0.223675 -0.807044\n"
     ]
    }
   ],
   "source": [
    "data2 = (data2 - data2.mean()) / data2.std()\n",
    "# data2.head()\n",
    "print(data2)"
   ]
  },
  {
   "cell_type": "code",
   "execution_count": 78,
   "metadata": {},
   "outputs": [
    {
     "name": "stdout",
     "output_type": "stream",
     "text": [
      "fincal theta: [[-1.10839234e-16  8.78503652e-01 -4.69166570e-02]] final cost: 0.1307033696077189\n"
     ]
    }
   ],
   "source": [
    "#下面的步骤跟之前差不多\n",
    "data2.insert(0, 'Ones', 1)\n",
    "\n",
    "# set X (training data) and y (target variable)\n",
    "cols = data2.shape[1]\n",
    "X2 = data2.iloc[:,0:cols-1]\n",
    "y2 = data2.iloc[:,cols-1:cols]\n",
    "\n",
    "\n",
    "# convert to matrices and initialize theta\n",
    "X2 = np.matrix(X2.values)\n",
    "y2 = np.matrix(y2.values)\n",
    "theta2 = np.matrix(np.array([0,0,0])) #注意此处权重为3个参数，b，w1，w2\n",
    "\n",
    "# perform linear regression on the dataset2\n",
    "w2, all_cost2 = gradientDescent(X2, y2, theta2)\n",
    "print(\"fincal theta:\", w2, \"final cost:\", computeCost(X2, y2, w2))"
   ]
  }
 ],
 "metadata": {
  "kernelspec": {
   "display_name": "learning_dl",
   "language": "python",
   "name": "python3"
  },
  "language_info": {
   "codemirror_mode": {
    "name": "ipython",
    "version": 3
   },
   "file_extension": ".py",
   "mimetype": "text/x-python",
   "name": "python",
   "nbconvert_exporter": "python",
   "pygments_lexer": "ipython3",
   "version": "3.6.13"
  }
 },
 "nbformat": 4,
 "nbformat_minor": 2
}
