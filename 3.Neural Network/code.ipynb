{
 "cells": [
  {
   "cell_type": "markdown",
   "metadata": {},
   "source": [
    "# 给定预训练权重的Neural Network（神经网络）的数字识别\n",
    "\n",
    "* 选用kernel learning_dl\n",
    "~~~\n",
    "conda activate learning_dl \n",
    "\n",
    "# conda remove --name learning_dl --all\n",
    "~~~"
   ]
  },
  {
   "cell_type": "code",
   "execution_count": 1,
   "metadata": {},
   "outputs": [
    {
     "name": "stdout",
     "output_type": "stream",
     "text": [
      "finish import module!!!\n"
     ]
    }
   ],
   "source": [
    "import matplotlib.pyplot as plt\n",
    "import numpy as np\n",
    "import scipy.io as sio\n",
    "import matplotlib\n",
    "import scipy.optimize as opt\n",
    "from sklearn.metrics import classification_report#这个包是评价报告\n",
    "# import tensorflow as tf\n",
    "\n",
    "print(\"finish import module!!!\")"
   ]
  },
  {
   "cell_type": "code",
   "execution_count": 2,
   "metadata": {},
   "outputs": [],
   "source": [
    "def load_data(path, transpose=True):\n",
    "    data = sio.loadmat(path)\n",
    "    y = data.get('y')  # (5000,1)\n",
    "    y = y.reshape(y.shape[0])  # make it back to column vector\n",
    "\n",
    "    X = data.get('X')  # (5000,400)\n",
    "\n",
    "    if transpose:\n",
    "        # for this dataset, you need a transpose to get the orientation right\n",
    "        X = np.array([im.reshape((20, 20)).T for im in X])\n",
    "\n",
    "        # and I flat the image again to preserve the vector presentation\n",
    "        X = np.array([im.reshape(400) for im in X])\n",
    "\n",
    "    return X, y\n",
    "\n",
    "# add intercept=1 for x0\n",
    "X, y = load_data('ex3data1.mat',transpose=False)\n",
    "\n",
    "X = np.insert(X, 0, values=np.ones(X.shape[0]), axis=1)  # intercept"
   ]
  },
  {
   "cell_type": "markdown",
   "metadata": {},
   "source": [
    "# 神经网络模型\n",
    "<div align=\"center\">\n",
    "  <img src=\"./nn_model.png\" />\n",
    "</div>\n"
   ]
  },
  {
   "cell_type": "code",
   "execution_count": 3,
   "metadata": {},
   "outputs": [
    {
     "name": "stdout",
     "output_type": "stream",
     "text": [
      "theta1: (25, 401) theta2: (10, 26)\n"
     ]
    },
    {
     "data": {
      "text/plain": [
       "((5000, 401), (5000,))"
      ]
     },
     "execution_count": 3,
     "metadata": {},
     "output_type": "execute_result"
    }
   ],
   "source": [
    "# 读入权重数据\n",
    "def load_weight(path):\n",
    "    data = sio.loadmat(path)\n",
    "    return data['Theta1'], data['Theta2']\n",
    "\n",
    "theta1, theta2 = load_weight('ex3weights.mat')\n",
    "print(\"theta1:\",theta1.shape,\"theta2:\",theta2.shape)\n",
    "X.shape, y.shape"
   ]
  },
  {
   "cell_type": "code",
   "execution_count": 4,
   "metadata": {},
   "outputs": [
    {
     "name": "stdout",
     "output_type": "stream",
     "text": [
      "              precision    recall  f1-score   support\n",
      "\n",
      "           1       0.97      0.98      0.97       500\n",
      "           2       0.98      0.97      0.97       500\n",
      "           3       0.98      0.96      0.97       500\n",
      "           4       0.97      0.97      0.97       500\n",
      "           5       0.98      0.98      0.98       500\n",
      "           6       0.97      0.99      0.98       500\n",
      "           7       0.98      0.97      0.97       500\n",
      "           8       0.98      0.98      0.98       500\n",
      "           9       0.97      0.96      0.96       500\n",
      "          10       0.98      0.99      0.99       500\n",
      "\n",
      "    accuracy                           0.98      5000\n",
      "   macro avg       0.98      0.98      0.98      5000\n",
      "weighted avg       0.98      0.98      0.98      5000\n",
      "\n"
     ]
    }
   ],
   "source": [
    "def sigmoid(z):\n",
    "    return 1 / (1 + np.exp(-z))\n",
    "\n",
    "# feed forward prediction（前馈预测）\n",
    "\n",
    "# 第一层\n",
    "a1 = X\n",
    "z2 = a1 @ theta1.T # (5000, 401) @ (25,401).T = (5000, 25)\n",
    "z2 = np.insert(z2, 0, values=np.ones(z2.shape[0]), axis=1)#插入第一列\n",
    "a2 = sigmoid(z2) #第一层的输出\n",
    "\n",
    "# 第二层\n",
    "z3 = a2 @ theta2.T\n",
    "a3 = sigmoid(z3)\n",
    "\n",
    "# 预测结果\n",
    "y_pred = np.argmax(a3, axis=1) + 1  # numpy is 0 base index, +1 for matlab convention，返回沿轴axis最大值的索引，axis=1代表行\n",
    "print(classification_report(y, y_pred))#这个函数是评价报告，可以看到准确率，召回率，f1-score等"
   ]
  },
  {
   "cell_type": "code",
   "execution_count": 10,
   "metadata": {},
   "outputs": [
    {
     "name": "stdout",
     "output_type": "stream",
     "text": [
      "可视化隐藏层theta1： (25, 401)\n"
     ]
    },
    {
     "data": {
      "image/png": "[encoded data removed]",
      "text/plain": [
       "<Figure size 360x360 with 25 Axes>"
      ]
     },
     "metadata": {},
     "output_type": "display_data"
    }
   ],
   "source": [
    "#将隐含层画出来\n",
    "\n",
    "def plot_hidden_layer(theta):\n",
    "    \"\"\"\n",
    "    theta: (10285, )\n",
    "    \"\"\"\n",
    "    final_theta1= theta\n",
    "    hidden_layer = final_theta1[:, 1:]  # ger rid of bias term theta\n",
    "\n",
    "    fig, ax_array = plt.subplots(nrows=5, ncols=5, sharey=True, sharex=True, figsize=(5, 5))\n",
    "\n",
    "    for r in range(5):\n",
    "        for c in range(5):\n",
    "            ax_array[r, c].matshow(hidden_layer[5 * r + c].reshape((20, 20)),\n",
    "                                   cmap=matplotlib.cm.binary)\n",
    "            plt.xticks(np.array([]))\n",
    "            plt.yticks(np.array([]))\n",
    "\n",
    "\n",
    "# nn functions starts here ---------------------------\n",
    "# ps. all the y here is expanded version (5000,10)\n",
    "print(\"可视化隐藏层theta1：\",theta1.shape)\n",
    "plot_hidden_layer(theta1)\n",
    "plt.show()"
   ]
  },
  {
   "cell_type": "code",
   "execution_count": 24,
   "metadata": {},
   "outputs": [
    {
     "name": "stdout",
     "output_type": "stream",
     "text": [
      "可视化隐藏层theta2： (10, 26)\n"
     ]
    },
    {
     "data": {
      "image/png": "[encoded data removed]",
      "text/plain": [
       "<Figure size 360x360 with 12 Axes>"
      ]
     },
     "metadata": {
      "needs_background": "light"
     },
     "output_type": "display_data"
    }
   ],
   "source": [
    "\n",
    "def plot_hidden_layer2(theta):\n",
    "    \"\"\"\n",
    "    Visualize weights for theta with shape (10, 26).\n",
    "    theta: (10, 26)\n",
    "    \"\"\"\n",
    "    # Remove the bias term (first column), leaving (10, 25)\n",
    "    hidden_layer = theta[:, 1:]\n",
    "\n",
    "    # Assuming we want to visualize each hidden unit as a 5x5 grid\n",
    "    num_units = hidden_layer.shape[0]  # Number of hidden units\n",
    "    num_features = hidden_layer.shape[1]  # Number of features per unit\n",
    "\n",
    "    # Reshape each hidden unit's weights into a 5x5 grid\n",
    "    grid_size = int(np.sqrt(num_features))  # Assuming the weights can be reshaped into a square grid (5x5)\n",
    "\n",
    "    # Calculate number of rows and columns for visualization\n",
    "    grid_rows = int(np.ceil(np.sqrt(num_units)))  # Rows for visualization grid\n",
    "    grid_cols = int(np.ceil(num_units / grid_rows))  # Columns for visualization grid\n",
    "\n",
    "    # Initialize figure\n",
    "    fig, ax_array = plt.subplots(nrows=grid_rows, ncols=grid_cols, sharey=True, sharex=True, figsize=(5, 5))\n",
    "\n",
    "    # Make ax_array iterable for both 1D or 2D layouts\n",
    "    if grid_rows * grid_cols > 1:\n",
    "        ax_array = ax_array.flatten()\n",
    "\n",
    "    for i, ax in enumerate(ax_array):\n",
    "        if i < num_units:  # Only plot up to the number of units\n",
    "            # Reshape to visualize weights for each hidden unit\n",
    "            reshaped_weights = hidden_layer[i].reshape((grid_size, grid_size))  # Reshape to 5x5 (or whatever grid size)\n",
    "            ax.matshow(reshaped_weights, cmap=matplotlib.cm.binary)\n",
    "        ax.axis('off')  # Turn off axes for all plots\n",
    "\n",
    "    # plt.show()\n",
    "\n",
    "print(\"可视化隐藏层theta2：\",theta2.shape)\n",
    "plot_hidden_layer2(theta2)\n",
    "plt.show()"
   ]
  }
 ],
 "metadata": {
  "kernelspec": {
   "display_name": "learning_dl",
   "language": "python",
   "name": "python3"
  },
  "language_info": {
   "codemirror_mode": {
    "name": "ipython",
    "version": 3
   },
   "file_extension": ".py",
   "mimetype": "text/x-python",
   "name": "python",
   "nbconvert_exporter": "python",
   "pygments_lexer": "ipython3",
   "version": "3.6.13"
  }
 },
 "nbformat": 4,
 "nbformat_minor": 2
}
